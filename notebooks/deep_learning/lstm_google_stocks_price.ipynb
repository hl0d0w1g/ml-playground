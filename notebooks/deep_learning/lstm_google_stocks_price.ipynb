{
 "cells": [
  {
   "cell_type": "markdown",
   "metadata": {},
   "source": [
    "# Google stock price prediction with LSTM"
   ]
  },
  {
   "cell_type": "code",
   "execution_count": 2,
   "metadata": {},
   "outputs": [],
   "source": [
    "import pandas as pd\n",
    "import numpy as np\n",
    "import yfinance as yf\n",
    "from sklearn.preprocessing import MinMaxScaler\n",
    "from tensorflow.keras.models import Sequential\n",
    "from tensorflow.keras.layers import Dense, Dropout, LSTM\n",
    "from tensorflow.keras.callbacks import EarlyStopping\n",
    "from matplotlib import pyplot as plt"
   ]
  },
  {
   "cell_type": "markdown",
   "metadata": {},
   "source": [
    "## Data loading and exploration"
   ]
  },
  {
   "cell_type": "code",
   "execution_count": 3,
   "metadata": {},
   "outputs": [
    {
     "name": "stdout",
     "output_type": "stream",
     "text": [
      "[*********************100%***********************]  1 of 1 completed\n"
     ]
    }
   ],
   "source": [
    "# Get the data of the stock GOOGL\n",
    "data = yf.download('GOOGL','2009-01-01','2019-01-01')"
   ]
  },
  {
   "cell_type": "code",
   "execution_count": 4,
   "metadata": {},
   "outputs": [
    {
     "data": {
      "text/html": [
       "<div>\n",
       "<style scoped>\n",
       "    .dataframe tbody tr th:only-of-type {\n",
       "        vertical-align: middle;\n",
       "    }\n",
       "\n",
       "    .dataframe tbody tr th {\n",
       "        vertical-align: top;\n",
       "    }\n",
       "\n",
       "    .dataframe thead th {\n",
       "        text-align: right;\n",
       "    }\n",
       "</style>\n",
       "<table border=\"1\" class=\"dataframe\">\n",
       "  <thead>\n",
       "    <tr style=\"text-align: right;\">\n",
       "      <th></th>\n",
       "      <th>Open</th>\n",
       "      <th>High</th>\n",
       "      <th>Low</th>\n",
       "      <th>Close</th>\n",
       "      <th>Adj Close</th>\n",
       "      <th>Volume</th>\n",
       "    </tr>\n",
       "    <tr>\n",
       "      <th>Date</th>\n",
       "      <th></th>\n",
       "      <th></th>\n",
       "      <th></th>\n",
       "      <th></th>\n",
       "      <th></th>\n",
       "      <th></th>\n",
       "    </tr>\n",
       "  </thead>\n",
       "  <tbody>\n",
       "    <tr>\n",
       "      <th>2008-12-31</th>\n",
       "      <td>152.252258</td>\n",
       "      <td>155.655655</td>\n",
       "      <td>151.456451</td>\n",
       "      <td>153.978973</td>\n",
       "      <td>153.978973</td>\n",
       "      <td>5767800</td>\n",
       "    </tr>\n",
       "    <tr>\n",
       "      <th>2009-01-02</th>\n",
       "      <td>154.454453</td>\n",
       "      <td>161.071075</td>\n",
       "      <td>152.902908</td>\n",
       "      <td>160.820816</td>\n",
       "      <td>160.820816</td>\n",
       "      <td>7213700</td>\n",
       "    </tr>\n",
       "    <tr>\n",
       "      <th>2009-01-05</th>\n",
       "      <td>160.660660</td>\n",
       "      <td>165.785782</td>\n",
       "      <td>157.657654</td>\n",
       "      <td>164.189194</td>\n",
       "      <td>164.189194</td>\n",
       "      <td>9768200</td>\n",
       "    </tr>\n",
       "    <tr>\n",
       "      <th>2009-01-06</th>\n",
       "      <td>166.656662</td>\n",
       "      <td>170.570572</td>\n",
       "      <td>163.358353</td>\n",
       "      <td>167.197205</td>\n",
       "      <td>167.197205</td>\n",
       "      <td>12837500</td>\n",
       "    </tr>\n",
       "    <tr>\n",
       "      <th>2009-01-07</th>\n",
       "      <td>164.324326</td>\n",
       "      <td>165.620621</td>\n",
       "      <td>159.534531</td>\n",
       "      <td>161.166168</td>\n",
       "      <td>161.166168</td>\n",
       "      <td>8980000</td>\n",
       "    </tr>\n",
       "  </tbody>\n",
       "</table>\n",
       "</div>"
      ],
      "text/plain": [
       "                  Open        High         Low       Close   Adj Close  \\\n",
       "Date                                                                     \n",
       "2008-12-31  152.252258  155.655655  151.456451  153.978973  153.978973   \n",
       "2009-01-02  154.454453  161.071075  152.902908  160.820816  160.820816   \n",
       "2009-01-05  160.660660  165.785782  157.657654  164.189194  164.189194   \n",
       "2009-01-06  166.656662  170.570572  163.358353  167.197205  167.197205   \n",
       "2009-01-07  164.324326  165.620621  159.534531  161.166168  161.166168   \n",
       "\n",
       "              Volume  \n",
       "Date                  \n",
       "2008-12-31   5767800  \n",
       "2009-01-02   7213700  \n",
       "2009-01-05   9768200  \n",
       "2009-01-06  12837500  \n",
       "2009-01-07   8980000  "
      ]
     },
     "execution_count": 4,
     "metadata": {},
     "output_type": "execute_result"
    }
   ],
   "source": [
    "data.head()"
   ]
  },
  {
   "cell_type": "markdown",
   "metadata": {},
   "source": [
    "## Data preprocessing"
   ]
  },
  {
   "cell_type": "code",
   "execution_count": 5,
   "metadata": {},
   "outputs": [],
   "source": [
    "data = data.values"
   ]
  },
  {
   "cell_type": "code",
   "execution_count": 6,
   "metadata": {},
   "outputs": [
    {
     "name": "stdout",
     "output_type": "stream",
     "text": [
      "Inputs shape: (2488, 29, 6)\n",
      "Target shape: (2488, 1)\n"
     ]
    }
   ],
   "source": [
    "# Construction of the time series\n",
    "len_of_series = 29\n",
    "\n",
    "data_inputs, data_target = [], []\n",
    "for i in range(len_of_series, len(data)):\n",
    "    data_inputs.append(data[i-len_of_series:i, :])\n",
    "    data_target.append(data[i, 0])\n",
    "    \n",
    "data_inputs, data_target = np.array(data_inputs), np.array(data_target)\n",
    "data_target = data_target[:, np.newaxis]\n",
    "\n",
    "print(f'Inputs shape: {data_inputs.shape}')\n",
    "print(f'Target shape: {data_target.shape}')"
   ]
  },
  {
   "cell_type": "code",
   "execution_count": 7,
   "metadata": {},
   "outputs": [],
   "source": [
    "# Data split\n",
    "splits_percentage = [0.7, 0.15, 0.15] # Train, Validation, Test\n",
    "\n",
    "indexes = [i for i in range(data_inputs.shape[0])]\n",
    "train_split_indexes = indexes[0:int(len(indexes)*splits_percentage[0])]\n",
    "val_split_indexes = indexes[int(len(indexes)*splits_percentage[0]):int(len(indexes)*(splits_percentage[0] + splits_percentage[1]))]\n",
    "test_split_indexes = indexes[int(len(indexes)*(1 - splits_percentage[2])):]\n",
    "\n",
    "train_inputs = data_inputs[train_split_indexes, :, :]\n",
    "train_target = data_target[train_split_indexes, :]\n",
    "validation_inputs = data_inputs[val_split_indexes, :, :]\n",
    "validation_target = data_target[val_split_indexes, :]\n",
    "test_inputs = data_inputs[test_split_indexes, :, :]\n",
    "test_target = data_target[test_split_indexes,:]"
   ]
  },
  {
   "cell_type": "code",
   "execution_count": 8,
   "metadata": {},
   "outputs": [],
   "source": [
    "# Data normalization\n",
    "sc_inputs = []\n",
    "for feature in range(train_inputs.shape[2]):\n",
    "    sc_inputs.append(MinMaxScaler())\n",
    "    train_inputs[:, :, feature] = sc_inputs[feature].fit_transform(train_inputs[:, :, feature])\n",
    "    validation_inputs[:, :, feature] = sc_inputs[feature].transform(validation_inputs[:, :, feature])\n",
    "    test_inputs[:, :, feature] = sc_inputs[feature].transform(test_inputs[:, :, feature])\n",
    "\n",
    "sc_target = MinMaxScaler()\n",
    "train_target = sc_target.fit_transform(train_target)\n",
    "validation_target = sc_target.transform(validation_target)\n",
    "test_target = sc_target.transform(test_target)"
   ]
  },
  {
   "cell_type": "markdown",
   "metadata": {},
   "source": [
    "## Model definition"
   ]
  },
  {
   "cell_type": "code",
   "execution_count": 9,
   "metadata": {},
   "outputs": [
    {
     "name": "stdout",
     "output_type": "stream",
     "text": [
      "WARNING:tensorflow:From /home/luis/Projects/ml-playground/venv/lib/python3.6/site-packages/tensorflow/python/ops/init_ops.py:1251: calling VarianceScaling.__init__ (from tensorflow.python.ops.init_ops) with dtype is deprecated and will be removed in a future version.\n",
      "Instructions for updating:\n",
      "Call initializer instance with the dtype argument instead of passing it to the constructor\n"
     ]
    }
   ],
   "source": [
    "model = Sequential()\n",
    "model.add(LSTM(50, return_sequences=True, input_shape=(train_inputs.shape[1], train_inputs.shape[2])))\n",
    "model.add(Dropout(.2))\n",
    "model.add(LSTM(50, return_sequences=True))\n",
    "model.add(Dropout(.2))\n",
    "model.add(LSTM(50, return_sequences=False))\n",
    "model.add(Dense(1))\n",
    "model.compile(optimizer='adam', loss='mean_squared_error', metrics=['accuracy'])\n",
    "\n",
    "es = EarlyStopping(monitor='val_loss', patience=10, verbose=10, restore_best_weights=True)"
   ]
  },
  {
   "cell_type": "code",
   "execution_count": 10,
   "metadata": {
    "scrolled": false
   },
   "outputs": [
    {
     "name": "stdout",
     "output_type": "stream",
     "text": [
      "Train on 1741 samples, validate on 373 samples\n",
      "WARNING:tensorflow:From /home/luis/Projects/ml-playground/venv/lib/python3.6/site-packages/tensorflow/python/ops/math_grad.py:1250: add_dispatch_support.<locals>.wrapper (from tensorflow.python.ops.array_ops) is deprecated and will be removed in a future version.\n",
      "Instructions for updating:\n",
      "Use tf.where in 2.0, which has the same broadcast rule as np.where\n",
      "Epoch 1/100\n",
      "1741/1741 [==============================] - 5s 3ms/sample - loss: 0.0150 - acc: 0.0011 - val_loss: 0.0103 - val_acc: 0.0000e+00\n",
      "Epoch 2/100\n",
      "1741/1741 [==============================] - 3s 2ms/sample - loss: 0.0011 - acc: 0.0011 - val_loss: 0.0044 - val_acc: 0.0000e+00\n",
      "Epoch 3/100\n",
      "1741/1741 [==============================] - 3s 2ms/sample - loss: 0.0011 - acc: 0.0011 - val_loss: 0.0026 - val_acc: 0.0000e+00\n",
      "Epoch 4/100\n",
      "1741/1741 [==============================] - 3s 2ms/sample - loss: 0.0011 - acc: 0.0011 - val_loss: 0.0018 - val_acc: 0.0000e+00\n",
      "Epoch 5/100\n",
      "1741/1741 [==============================] - 3s 2ms/sample - loss: 9.4214e-04 - acc: 0.0011 - val_loss: 0.0017 - val_acc: 0.0000e+00\n",
      "Epoch 6/100\n",
      "1741/1741 [==============================] - 3s 2ms/sample - loss: 9.6249e-04 - acc: 0.0011 - val_loss: 0.0034 - val_acc: 0.0000e+00\n",
      "Epoch 7/100\n",
      "1741/1741 [==============================] - 3s 2ms/sample - loss: 9.7050e-04 - acc: 0.0011 - val_loss: 0.0023 - val_acc: 0.0000e+00\n",
      "Epoch 8/100\n",
      "1741/1741 [==============================] - 3s 2ms/sample - loss: 8.4304e-04 - acc: 0.0011 - val_loss: 0.0033 - val_acc: 0.0000e+00\n",
      "Epoch 9/100\n",
      "1741/1741 [==============================] - 3s 2ms/sample - loss: 8.5568e-04 - acc: 0.0011 - val_loss: 0.0015 - val_acc: 0.0000e+00\n",
      "Epoch 10/100\n",
      "1741/1741 [==============================] - 3s 2ms/sample - loss: 8.4205e-04 - acc: 0.0011 - val_loss: 0.0062 - val_acc: 0.0000e+00\n",
      "Epoch 11/100\n",
      "1741/1741 [==============================] - 3s 2ms/sample - loss: 7.9206e-04 - acc: 0.0011 - val_loss: 0.0014 - val_acc: 0.0000e+00\n",
      "Epoch 12/100\n",
      "1741/1741 [==============================] - 3s 2ms/sample - loss: 7.9580e-04 - acc: 0.0011 - val_loss: 0.0038 - val_acc: 0.0000e+00\n",
      "Epoch 13/100\n",
      "1741/1741 [==============================] - 3s 2ms/sample - loss: 8.4004e-04 - acc: 0.0011 - val_loss: 0.0015 - val_acc: 0.0000e+00\n",
      "Epoch 14/100\n",
      "1741/1741 [==============================] - 3s 2ms/sample - loss: 7.9326e-04 - acc: 0.0011 - val_loss: 0.0014 - val_acc: 0.0000e+00\n",
      "Epoch 15/100\n",
      "1741/1741 [==============================] - 3s 2ms/sample - loss: 7.0728e-04 - acc: 0.0011 - val_loss: 0.0037 - val_acc: 0.0000e+00\n",
      "Epoch 16/100\n",
      "1741/1741 [==============================] - 3s 2ms/sample - loss: 6.7262e-04 - acc: 0.0011 - val_loss: 0.0011 - val_acc: 0.0000e+00\n",
      "Epoch 17/100\n",
      "1741/1741 [==============================] - 3s 2ms/sample - loss: 6.3508e-04 - acc: 0.0011 - val_loss: 0.0021 - val_acc: 0.0000e+00\n",
      "Epoch 18/100\n",
      "1741/1741 [==============================] - 3s 2ms/sample - loss: 7.3322e-04 - acc: 0.0011 - val_loss: 0.0020 - val_acc: 0.0000e+00\n",
      "Epoch 19/100\n",
      "1741/1741 [==============================] - 3s 2ms/sample - loss: 6.4619e-04 - acc: 0.0011 - val_loss: 8.8890e-04 - val_acc: 0.0000e+00\n",
      "Epoch 20/100\n",
      "1741/1741 [==============================] - 3s 2ms/sample - loss: 6.7127e-04 - acc: 0.0011 - val_loss: 0.0018 - val_acc: 0.0000e+00\n",
      "Epoch 21/100\n",
      "1741/1741 [==============================] - 3s 2ms/sample - loss: 7.2043e-04 - acc: 0.0011 - val_loss: 8.8710e-04 - val_acc: 0.0000e+00\n",
      "Epoch 22/100\n",
      "1741/1741 [==============================] - 4s 2ms/sample - loss: 6.1460e-04 - acc: 0.0011 - val_loss: 0.0016 - val_acc: 0.0000e+00\n",
      "Epoch 23/100\n",
      "1741/1741 [==============================] - 4s 2ms/sample - loss: 6.6971e-04 - acc: 0.0011 - val_loss: 0.0018 - val_acc: 0.0000e+00\n",
      "Epoch 24/100\n",
      "1741/1741 [==============================] - 3s 2ms/sample - loss: 5.8250e-04 - acc: 0.0011 - val_loss: 0.0015 - val_acc: 0.0000e+00\n",
      "Epoch 25/100\n",
      "1741/1741 [==============================] - 3s 2ms/sample - loss: 6.8721e-04 - acc: 0.0011 - val_loss: 0.0033 - val_acc: 0.0000e+00\n",
      "Epoch 26/100\n",
      "1741/1741 [==============================] - 3s 2ms/sample - loss: 5.9110e-04 - acc: 0.0011 - val_loss: 0.0020 - val_acc: 0.0000e+00\n",
      "Epoch 27/100\n",
      "1741/1741 [==============================] - 3s 2ms/sample - loss: 5.9603e-04 - acc: 0.0011 - val_loss: 0.0025 - val_acc: 0.0000e+00\n",
      "Epoch 28/100\n",
      "1741/1741 [==============================] - 3s 2ms/sample - loss: 6.8029e-04 - acc: 0.0011 - val_loss: 0.0012 - val_acc: 0.0000e+00\n",
      "Epoch 29/100\n",
      "1741/1741 [==============================] - 3s 2ms/sample - loss: 6.8831e-04 - acc: 0.0011 - val_loss: 0.0011 - val_acc: 0.0000e+00\n",
      "Epoch 30/100\n",
      "1741/1741 [==============================] - 3s 2ms/sample - loss: 5.6678e-04 - acc: 0.0011 - val_loss: 7.6615e-04 - val_acc: 0.0000e+00\n",
      "Epoch 31/100\n",
      "1741/1741 [==============================] - 3s 2ms/sample - loss: 5.6493e-04 - acc: 0.0011 - val_loss: 0.0034 - val_acc: 0.0000e+00\n",
      "Epoch 32/100\n",
      "1741/1741 [==============================] - 3s 2ms/sample - loss: 6.1272e-04 - acc: 0.0011 - val_loss: 0.0012 - val_acc: 0.0000e+00\n",
      "Epoch 33/100\n",
      "1741/1741 [==============================] - 3s 2ms/sample - loss: 5.5757e-04 - acc: 0.0011 - val_loss: 0.0012 - val_acc: 0.0000e+00\n",
      "Epoch 34/100\n",
      "1741/1741 [==============================] - 3s 2ms/sample - loss: 4.9844e-04 - acc: 0.0011 - val_loss: 9.9198e-04 - val_acc: 0.0000e+00\n",
      "Epoch 35/100\n",
      "1741/1741 [==============================] - 3s 2ms/sample - loss: 5.9103e-04 - acc: 0.0011 - val_loss: 0.0035 - val_acc: 0.0000e+00\n",
      "Epoch 36/100\n",
      "1741/1741 [==============================] - 3s 2ms/sample - loss: 4.7415e-04 - acc: 0.0011 - val_loss: 7.8818e-04 - val_acc: 0.0000e+00\n",
      "Epoch 37/100\n",
      "1741/1741 [==============================] - 2s 1ms/sample - loss: 4.4943e-04 - acc: 0.0011 - val_loss: 0.0026 - val_acc: 0.0000e+00\n",
      "Epoch 38/100\n",
      "1741/1741 [==============================] - 2s 1ms/sample - loss: 4.8145e-04 - acc: 0.0011 - val_loss: 0.0024 - val_acc: 0.0000e+00\n",
      "Epoch 39/100\n",
      "1741/1741 [==============================] - 2s 1ms/sample - loss: 5.6192e-04 - acc: 0.0011 - val_loss: 0.0030 - val_acc: 0.0000e+00\n",
      "Epoch 40/100\n",
      "1728/1741 [============================>.] - ETA: 0s - loss: 4.4628e-04 - acc: 0.0012    Restoring model weights from the end of the best epoch.\n",
      "1741/1741 [==============================] - 3s 2ms/sample - loss: 4.4611e-04 - acc: 0.0011 - val_loss: 0.0013 - val_acc: 0.0000e+00\n",
      "Epoch 00040: early stopping\n"
     ]
    }
   ],
   "source": [
    "hisotry = model.fit(train_inputs, train_target, epochs=100, batch_size=32, \n",
    "                    validation_data=(validation_inputs, validation_target), callbacks=[es])"
   ]
  },
  {
   "cell_type": "markdown",
   "metadata": {},
   "source": [
    "## Results analysis"
   ]
  },
  {
   "cell_type": "code",
   "execution_count": 11,
   "metadata": {},
   "outputs": [
    {
     "name": "stdout",
     "output_type": "stream",
     "text": [
      "1741/1741 [==============================] - 1s 454us/sample - loss: 3.4017e-04 - acc: 0.0011\n",
      "373/373 [==============================] - 0s 452us/sample - loss: 7.6615e-04 - acc: 0.0000e+00\n",
      "374/374 [==============================] - 0s 452us/sample - loss: 0.0098 - acc: 0.0000e+00\n"
     ]
    }
   ],
   "source": [
    "eval_train = model.evaluate(train_inputs, train_target, batch_size=32)\n",
    "eval_val = model.evaluate(validation_inputs, validation_target, batch_size=32)\n",
    "eval_test = model.evaluate(test_inputs, test_target, batch_size=32)"
   ]
  },
  {
   "cell_type": "code",
   "execution_count": 12,
   "metadata": {},
   "outputs": [],
   "source": [
    "train_pred = model.predict(train_inputs, batch_size=32)\n",
    "val_pred = model.predict(validation_inputs, batch_size=32)\n",
    "test_pred = model.predict(test_inputs, batch_size=32)\n",
    "\n",
    "train_pred = sc_target.inverse_transform(train_pred)\n",
    "val_pred = sc_target.inverse_transform(val_pred)\n",
    "test_pred = sc_target.inverse_transform(test_pred)\n",
    "\n",
    "train_target = sc_target.inverse_transform(train_target)\n",
    "validation_target = sc_target.inverse_transform(validation_target)\n",
    "test_target = sc_target.inverse_transform(test_target)"
   ]
  },
  {
   "cell_type": "code",
   "execution_count": 13,
   "metadata": {},
   "outputs": [
    {
     "data": {
      "image/png": "[encoded data removed]",
      "text/plain": [
       "<Figure size 432x288 with 1 Axes>"
      ]
     },
     "metadata": {
      "needs_background": "light"
     },
     "output_type": "display_data"
    }
   ],
   "source": [
    "plt.plot(train_target, color='red', label='Real')\n",
    "plt.plot(train_pred, color='blue', label='Predicted')\n",
    "plt.title('Train set')\n",
    "plt.xlabel('Sample')\n",
    "plt.ylabel('Open')\n",
    "plt.legend()\n",
    "plt.show()"
   ]
  },
  {
   "cell_type": "code",
   "execution_count": 14,
   "metadata": {},
   "outputs": [
    {
     "data": {
      "image/png": "[encoded data removed]",
      "text/plain": [
       "<Figure size 432x288 with 1 Axes>"
      ]
     },
     "metadata": {
      "needs_background": "light"
     },
     "output_type": "display_data"
    }
   ],
   "source": [
    "plt.plot(validation_target, color='red', label='Real')\n",
    "plt.plot(val_pred, color='blue', label='Predicted')\n",
    "plt.title('Validation set')\n",
    "plt.xlabel('Sample')\n",
    "plt.ylabel('Open')\n",
    "plt.legend()\n",
    "plt.show()"
   ]
  },
  {
   "cell_type": "code",
   "execution_count": 15,
   "metadata": {},
   "outputs": [
    {
     "data": {
      "image/png": "[encoded data removed]",
      "text/plain": [
       "<Figure size 432x288 with 1 Axes>"
      ]
     },
     "metadata": {
      "needs_background": "light"
     },
     "output_type": "display_data"
    }
   ],
   "source": [
    "plt.plot(test_target, color='red', label='Real')\n",
    "plt.plot(test_pred, color='blue', label='Predicted')\n",
    "plt.title('Test set')\n",
    "plt.xlabel('Sample')\n",
    "plt.ylabel('Open')\n",
    "plt.legend()\n",
    "plt.show()"
   ]
  }
 ],
 "metadata": {
  "kernelspec": {
   "display_name": "Python 3",
   "language": "python",
   "name": "python3"
  },
  "language_info": {
   "codemirror_mode": {
    "name": "ipython",
    "version": 3
   },
   "file_extension": ".py",
   "mimetype": "text/x-python",
   "name": "python",
   "nbconvert_exporter": "python",
   "pygments_lexer": "ipython3",
   "version": "3.6.8"
  }
 },
 "nbformat": 4,
 "nbformat_minor": 2
}
